{
 "cells": [
  {
   "cell_type": "markdown",
   "metadata": {},
   "source": [
    "# Refactor the Taxi Fare Prediction Problem with a Pipeline"
   ]
  },
  {
   "cell_type": "markdown",
   "metadata": {},
   "source": [
    "We will refactor the model you built for the Taxi Fare Prediction Problem using:\n",
    "- Custom encoders for the distance and time features\n",
    "- OneHot Encoder in order to encode the hour and day of week features\n",
    "- SimpleImputer to fill missing values\n",
    "- A simple linear regression\n",
    "- A pipeline to put all together\n",
    "\n",
    "Then: \n",
    "- train this pipeline\n",
    "- apply the pipeline on test data\n",
    "- generate predictions and submit these new predictions to Kaggle"
   ]
  },
  {
   "cell_type": "markdown",
   "metadata": {},
   "source": [
    "## First pipeline"
   ]
  },
  {
   "cell_type": "code",
   "execution_count": 2,
   "metadata": {},
   "outputs": [
    {
     "data": {
      "text/html": [
       "<div>\n",
       "<style scoped>\n",
       "    .dataframe tbody tr th:only-of-type {\n",
       "        vertical-align: middle;\n",
       "    }\n",
       "\n",
       "    .dataframe tbody tr th {\n",
       "        vertical-align: top;\n",
       "    }\n",
       "\n",
       "    .dataframe thead th {\n",
       "        text-align: right;\n",
       "    }\n",
       "</style>\n",
       "<table border=\"1\" class=\"dataframe\">\n",
       "  <thead>\n",
       "    <tr style=\"text-align: right;\">\n",
       "      <th></th>\n",
       "      <th>key</th>\n",
       "      <th>fare_amount</th>\n",
       "      <th>pickup_datetime</th>\n",
       "      <th>pickup_longitude</th>\n",
       "      <th>pickup_latitude</th>\n",
       "      <th>dropoff_longitude</th>\n",
       "      <th>dropoff_latitude</th>\n",
       "      <th>passenger_count</th>\n",
       "    </tr>\n",
       "  </thead>\n",
       "  <tbody>\n",
       "    <tr>\n",
       "      <th>0</th>\n",
       "      <td>2009-06-15 17:26:21.0000001</td>\n",
       "      <td>4.5</td>\n",
       "      <td>2009-06-15 17:26:21 UTC</td>\n",
       "      <td>-73.844311</td>\n",
       "      <td>40.721319</td>\n",
       "      <td>-73.841610</td>\n",
       "      <td>40.712278</td>\n",
       "      <td>1</td>\n",
       "    </tr>\n",
       "    <tr>\n",
       "      <th>1</th>\n",
       "      <td>2010-01-05 16:52:16.0000002</td>\n",
       "      <td>16.9</td>\n",
       "      <td>2010-01-05 16:52:16 UTC</td>\n",
       "      <td>-74.016048</td>\n",
       "      <td>40.711303</td>\n",
       "      <td>-73.979268</td>\n",
       "      <td>40.782004</td>\n",
       "      <td>1</td>\n",
       "    </tr>\n",
       "    <tr>\n",
       "      <th>2</th>\n",
       "      <td>2011-08-18 00:35:00.00000049</td>\n",
       "      <td>5.7</td>\n",
       "      <td>2011-08-18 00:35:00 UTC</td>\n",
       "      <td>-73.982738</td>\n",
       "      <td>40.761270</td>\n",
       "      <td>-73.991242</td>\n",
       "      <td>40.750562</td>\n",
       "      <td>2</td>\n",
       "    </tr>\n",
       "    <tr>\n",
       "      <th>3</th>\n",
       "      <td>2012-04-21 04:30:42.0000001</td>\n",
       "      <td>7.7</td>\n",
       "      <td>2012-04-21 04:30:42 UTC</td>\n",
       "      <td>-73.987130</td>\n",
       "      <td>40.733143</td>\n",
       "      <td>-73.991567</td>\n",
       "      <td>40.758092</td>\n",
       "      <td>1</td>\n",
       "    </tr>\n",
       "    <tr>\n",
       "      <th>4</th>\n",
       "      <td>2010-03-09 07:51:00.000000135</td>\n",
       "      <td>5.3</td>\n",
       "      <td>2010-03-09 07:51:00 UTC</td>\n",
       "      <td>-73.968095</td>\n",
       "      <td>40.768008</td>\n",
       "      <td>-73.956655</td>\n",
       "      <td>40.783762</td>\n",
       "      <td>1</td>\n",
       "    </tr>\n",
       "  </tbody>\n",
       "</table>\n",
       "</div>"
      ],
      "text/plain": [
       "                             key  fare_amount          pickup_datetime  \\\n",
       "0    2009-06-15 17:26:21.0000001          4.5  2009-06-15 17:26:21 UTC   \n",
       "1    2010-01-05 16:52:16.0000002         16.9  2010-01-05 16:52:16 UTC   \n",
       "2   2011-08-18 00:35:00.00000049          5.7  2011-08-18 00:35:00 UTC   \n",
       "3    2012-04-21 04:30:42.0000001          7.7  2012-04-21 04:30:42 UTC   \n",
       "4  2010-03-09 07:51:00.000000135          5.3  2010-03-09 07:51:00 UTC   \n",
       "\n",
       "   pickup_longitude  pickup_latitude  dropoff_longitude  dropoff_latitude  \\\n",
       "0        -73.844311        40.721319         -73.841610         40.712278   \n",
       "1        -74.016048        40.711303         -73.979268         40.782004   \n",
       "2        -73.982738        40.761270         -73.991242         40.750562   \n",
       "3        -73.987130        40.733143         -73.991567         40.758092   \n",
       "4        -73.968095        40.768008         -73.956655         40.783762   \n",
       "\n",
       "   passenger_count  \n",
       "0                1  \n",
       "1                1  \n",
       "2                2  \n",
       "3                1  \n",
       "4                1  "
      ]
     },
     "execution_count": 2,
     "metadata": {},
     "output_type": "execute_result"
    }
   ],
   "source": [
    "# import the dataset\n",
    "import pandas as pd\n",
    "url = \"../01-Kaggle-Taxi-Fare/data/train.csv\"\n",
    "df = pd.read_csv(url, nrows=1000)\n",
    "df.head()"
   ]
  },
  {
   "cell_type": "code",
   "execution_count": 3,
   "metadata": {},
   "outputs": [
    {
     "data": {
      "text/html": [
       "<div>\n",
       "<style scoped>\n",
       "    .dataframe tbody tr th:only-of-type {\n",
       "        vertical-align: middle;\n",
       "    }\n",
       "\n",
       "    .dataframe tbody tr th {\n",
       "        vertical-align: top;\n",
       "    }\n",
       "\n",
       "    .dataframe thead th {\n",
       "        text-align: right;\n",
       "    }\n",
       "</style>\n",
       "<table border=\"1\" class=\"dataframe\">\n",
       "  <thead>\n",
       "    <tr style=\"text-align: right;\">\n",
       "      <th></th>\n",
       "      <th>key</th>\n",
       "      <th>pickup_datetime</th>\n",
       "      <th>pickup_longitude</th>\n",
       "      <th>pickup_latitude</th>\n",
       "      <th>dropoff_longitude</th>\n",
       "      <th>dropoff_latitude</th>\n",
       "      <th>passenger_count</th>\n",
       "    </tr>\n",
       "  </thead>\n",
       "  <tbody>\n",
       "    <tr>\n",
       "      <th>0</th>\n",
       "      <td>2009-06-15 17:26:21.0000001</td>\n",
       "      <td>2009-06-15 17:26:21 UTC</td>\n",
       "      <td>-73.844311</td>\n",
       "      <td>40.721319</td>\n",
       "      <td>-73.841610</td>\n",
       "      <td>40.712278</td>\n",
       "      <td>1</td>\n",
       "    </tr>\n",
       "    <tr>\n",
       "      <th>1</th>\n",
       "      <td>2010-01-05 16:52:16.0000002</td>\n",
       "      <td>2010-01-05 16:52:16 UTC</td>\n",
       "      <td>-74.016048</td>\n",
       "      <td>40.711303</td>\n",
       "      <td>-73.979268</td>\n",
       "      <td>40.782004</td>\n",
       "      <td>1</td>\n",
       "    </tr>\n",
       "    <tr>\n",
       "      <th>2</th>\n",
       "      <td>2011-08-18 00:35:00.00000049</td>\n",
       "      <td>2011-08-18 00:35:00 UTC</td>\n",
       "      <td>-73.982738</td>\n",
       "      <td>40.761270</td>\n",
       "      <td>-73.991242</td>\n",
       "      <td>40.750562</td>\n",
       "      <td>2</td>\n",
       "    </tr>\n",
       "    <tr>\n",
       "      <th>3</th>\n",
       "      <td>2012-04-21 04:30:42.0000001</td>\n",
       "      <td>2012-04-21 04:30:42 UTC</td>\n",
       "      <td>-73.987130</td>\n",
       "      <td>40.733143</td>\n",
       "      <td>-73.991567</td>\n",
       "      <td>40.758092</td>\n",
       "      <td>1</td>\n",
       "    </tr>\n",
       "    <tr>\n",
       "      <th>4</th>\n",
       "      <td>2010-03-09 07:51:00.000000135</td>\n",
       "      <td>2010-03-09 07:51:00 UTC</td>\n",
       "      <td>-73.968095</td>\n",
       "      <td>40.768008</td>\n",
       "      <td>-73.956655</td>\n",
       "      <td>40.783762</td>\n",
       "      <td>1</td>\n",
       "    </tr>\n",
       "  </tbody>\n",
       "</table>\n",
       "</div>"
      ],
      "text/plain": [
       "                             key          pickup_datetime  pickup_longitude  \\\n",
       "0    2009-06-15 17:26:21.0000001  2009-06-15 17:26:21 UTC        -73.844311   \n",
       "1    2010-01-05 16:52:16.0000002  2010-01-05 16:52:16 UTC        -74.016048   \n",
       "2   2011-08-18 00:35:00.00000049  2011-08-18 00:35:00 UTC        -73.982738   \n",
       "3    2012-04-21 04:30:42.0000001  2012-04-21 04:30:42 UTC        -73.987130   \n",
       "4  2010-03-09 07:51:00.000000135  2010-03-09 07:51:00 UTC        -73.968095   \n",
       "\n",
       "   pickup_latitude  dropoff_longitude  dropoff_latitude  passenger_count  \n",
       "0        40.721319         -73.841610         40.712278                1  \n",
       "1        40.711303         -73.979268         40.782004                1  \n",
       "2        40.761270         -73.991242         40.750562                2  \n",
       "3        40.733143         -73.991567         40.758092                1  \n",
       "4        40.768008         -73.956655         40.783762                1  "
      ]
     },
     "execution_count": 3,
     "metadata": {},
     "output_type": "execute_result"
    }
   ],
   "source": [
    "# prepare X and y\n",
    "y = df.pop(\"fare_amount\")\n",
    "X = df\n",
    "X.head()"
   ]
  },
  {
   "cell_type": "code",
   "execution_count": 4,
   "metadata": {},
   "outputs": [],
   "source": [
    "# Hold out \n",
    "from sklearn.model_selection import train_test_split\n",
    "\n",
    "X_train, X_test, y_train, y_test = train_test_split(X, y, test_size=0.2)"
   ]
  },
  {
   "cell_type": "code",
   "execution_count": 5,
   "metadata": {},
   "outputs": [
    {
     "data": {
      "text/html": [
       "<div>\n",
       "<style scoped>\n",
       "    .dataframe tbody tr th:only-of-type {\n",
       "        vertical-align: middle;\n",
       "    }\n",
       "\n",
       "    .dataframe tbody tr th {\n",
       "        vertical-align: top;\n",
       "    }\n",
       "\n",
       "    .dataframe thead th {\n",
       "        text-align: right;\n",
       "    }\n",
       "</style>\n",
       "<table border=\"1\" class=\"dataframe\">\n",
       "  <thead>\n",
       "    <tr style=\"text-align: right;\">\n",
       "      <th></th>\n",
       "      <th>key</th>\n",
       "      <th>pickup_datetime</th>\n",
       "      <th>pickup_longitude</th>\n",
       "      <th>pickup_latitude</th>\n",
       "      <th>dropoff_longitude</th>\n",
       "      <th>dropoff_latitude</th>\n",
       "      <th>passenger_count</th>\n",
       "    </tr>\n",
       "  </thead>\n",
       "  <tbody>\n",
       "    <tr>\n",
       "      <th>910</th>\n",
       "      <td>2011-11-13 12:59:00.000000197</td>\n",
       "      <td>2011-11-13 12:59:00 UTC</td>\n",
       "      <td>-73.955707</td>\n",
       "      <td>40.778757</td>\n",
       "      <td>-73.990922</td>\n",
       "      <td>40.740530</td>\n",
       "      <td>1</td>\n",
       "    </tr>\n",
       "    <tr>\n",
       "      <th>338</th>\n",
       "      <td>2011-07-05 14:23:00.00000034</td>\n",
       "      <td>2011-07-05 14:23:00 UTC</td>\n",
       "      <td>-73.990970</td>\n",
       "      <td>40.742158</td>\n",
       "      <td>-73.977728</td>\n",
       "      <td>40.726730</td>\n",
       "      <td>1</td>\n",
       "    </tr>\n",
       "    <tr>\n",
       "      <th>982</th>\n",
       "      <td>2014-10-16 17:27:00.000000152</td>\n",
       "      <td>2014-10-16 17:27:00 UTC</td>\n",
       "      <td>-73.963035</td>\n",
       "      <td>40.772385</td>\n",
       "      <td>-73.981320</td>\n",
       "      <td>40.771160</td>\n",
       "      <td>3</td>\n",
       "    </tr>\n",
       "    <tr>\n",
       "      <th>516</th>\n",
       "      <td>2009-07-30 21:24:21.0000004</td>\n",
       "      <td>2009-07-30 21:24:21 UTC</td>\n",
       "      <td>-73.999556</td>\n",
       "      <td>40.738662</td>\n",
       "      <td>-73.979409</td>\n",
       "      <td>40.727603</td>\n",
       "      <td>1</td>\n",
       "    </tr>\n",
       "    <tr>\n",
       "      <th>171</th>\n",
       "      <td>2013-06-22 02:35:01.0000004</td>\n",
       "      <td>2013-06-22 02:35:01 UTC</td>\n",
       "      <td>-73.997728</td>\n",
       "      <td>40.746099</td>\n",
       "      <td>-73.947656</td>\n",
       "      <td>40.829451</td>\n",
       "      <td>1</td>\n",
       "    </tr>\n",
       "  </tbody>\n",
       "</table>\n",
       "</div>"
      ],
      "text/plain": [
       "                               key          pickup_datetime  pickup_longitude  \\\n",
       "910  2011-11-13 12:59:00.000000197  2011-11-13 12:59:00 UTC        -73.955707   \n",
       "338   2011-07-05 14:23:00.00000034  2011-07-05 14:23:00 UTC        -73.990970   \n",
       "982  2014-10-16 17:27:00.000000152  2014-10-16 17:27:00 UTC        -73.963035   \n",
       "516    2009-07-30 21:24:21.0000004  2009-07-30 21:24:21 UTC        -73.999556   \n",
       "171    2013-06-22 02:35:01.0000004  2013-06-22 02:35:01 UTC        -73.997728   \n",
       "\n",
       "     pickup_latitude  dropoff_longitude  dropoff_latitude  passenger_count  \n",
       "910        40.778757         -73.990922         40.740530                1  \n",
       "338        40.742158         -73.977728         40.726730                1  \n",
       "982        40.772385         -73.981320         40.771160                3  \n",
       "516        40.738662         -73.979409         40.727603                1  \n",
       "171        40.746099         -73.947656         40.829451                1  "
      ]
     },
     "execution_count": 5,
     "metadata": {},
     "output_type": "execute_result"
    }
   ],
   "source": [
    "X_train.head()"
   ]
  },
  {
   "cell_type": "markdown",
   "metadata": {},
   "source": [
    "### Custom transformers"
   ]
  },
  {
   "cell_type": "markdown",
   "metadata": {},
   "source": [
    "With the Taxi Fare Prediction Challenge data, using `BaseEstimator` and `TransformerMixin`, implement:\n",
    "\n",
    "- a transformer that computes the haversine distance between the pickup and dropoff locations\n",
    "- a custom encoder that extracts the time features from `pickup_datetime`"
   ]
  },
  {
   "cell_type": "code",
   "execution_count": 6,
   "metadata": {},
   "outputs": [],
   "source": [
    "import numpy as np\n",
    "\n",
    "def haversine_vectorized(df, \n",
    "                         start_lat=\"pickup_latitude\",\n",
    "                         start_lon=\"pickup_longitude\",\n",
    "                         end_lat=\"dropoff_latitude\",\n",
    "                         end_lon=\"dropoff_longitude\"):\n",
    "    \"\"\" \n",
    "        Calculates the great circle distance between two points \n",
    "        on the earth (specified in decimal degrees).\n",
    "        Vectorized version of the haversine distance for pandas df.\n",
    "        Computes the distance in kms.\n",
    "    \"\"\"\n",
    "\n",
    "    lat_1_rad, lon_1_rad = np.radians(df[start_lat].astype(float)), np.radians(df[start_lon].astype(float))\n",
    "    lat_2_rad, lon_2_rad = np.radians(df[end_lat].astype(float)), np.radians(df[end_lon].astype(float))\n",
    "    dlon = lon_2_rad - lon_1_rad\n",
    "    dlat = lat_2_rad - lat_1_rad\n",
    "\n",
    "    a = np.sin(dlat / 2.0) ** 2 + np.cos(lat_1_rad) * np.cos(lat_2_rad) * np.sin(dlon / 2.0) ** 2\n",
    "    c = 2 * np.arcsin(np.sqrt(a))\n",
    "    return 6371 * c"
   ]
  },
  {
   "cell_type": "code",
   "execution_count": 7,
   "metadata": {},
   "outputs": [],
   "source": [
    "# create a DistanceTransformer\n",
    "from sklearn.base import BaseEstimator, TransformerMixin\n",
    "\n",
    "class DistanceTransformer(BaseEstimator, TransformerMixin):\n",
    "    \"\"\"\n",
    "        Computes the haversine distance between two GPS points.\n",
    "        Returns a copy of the DataFrame X with only one column: 'distance'.\n",
    "    \"\"\"\n",
    "\n",
    "    def __init__(self,\n",
    "                 start_lat=\"pickup_latitude\",\n",
    "                 start_lon=\"pickup_longitude\",\n",
    "                 end_lat=\"dropoff_latitude\",\n",
    "                 end_lon=\"dropoff_longitude\"):\n",
    "        self.start_lat = start_lat\n",
    "        self.start_lon = start_lon\n",
    "        self.end_lat = end_lat\n",
    "        self.end_lon = end_lon\n",
    "\n",
    "    def fit(self, X, y=None):\n",
    "        return self\n",
    "\n",
    "    def transform(self, X, y=None):\n",
    "        assert isinstance(X, pd.DataFrame)\n",
    "        X_ = X.copy()\n",
    "        X_[\"distance\"] = haversine_vectorized(\n",
    "            X_,\n",
    "            start_lat=self.start_lat,\n",
    "            start_lon=self.start_lon,\n",
    "            end_lat=self.end_lat,\n",
    "            end_lon=self.end_lon\n",
    "        )\n",
    "        return X_[['distance']]"
   ]
  },
  {
   "cell_type": "code",
   "execution_count": 8,
   "metadata": {},
   "outputs": [
    {
     "data": {
      "text/html": [
       "<div>\n",
       "<style scoped>\n",
       "    .dataframe tbody tr th:only-of-type {\n",
       "        vertical-align: middle;\n",
       "    }\n",
       "\n",
       "    .dataframe tbody tr th {\n",
       "        vertical-align: top;\n",
       "    }\n",
       "\n",
       "    .dataframe thead th {\n",
       "        text-align: right;\n",
       "    }\n",
       "</style>\n",
       "<table border=\"1\" class=\"dataframe\">\n",
       "  <thead>\n",
       "    <tr style=\"text-align: right;\">\n",
       "      <th></th>\n",
       "      <th>distance</th>\n",
       "    </tr>\n",
       "  </thead>\n",
       "  <tbody>\n",
       "    <tr>\n",
       "      <th>910</th>\n",
       "      <td>5.183156</td>\n",
       "    </tr>\n",
       "    <tr>\n",
       "      <th>338</th>\n",
       "      <td>2.046424</td>\n",
       "    </tr>\n",
       "    <tr>\n",
       "      <th>982</th>\n",
       "      <td>1.545789</td>\n",
       "    </tr>\n",
       "    <tr>\n",
       "      <th>516</th>\n",
       "      <td>2.096160</td>\n",
       "    </tr>\n",
       "    <tr>\n",
       "      <th>171</th>\n",
       "      <td>10.181969</td>\n",
       "    </tr>\n",
       "  </tbody>\n",
       "</table>\n",
       "</div>"
      ],
      "text/plain": [
       "      distance\n",
       "910   5.183156\n",
       "338   2.046424\n",
       "982   1.545789\n",
       "516   2.096160\n",
       "171  10.181969"
      ]
     },
     "execution_count": 8,
     "metadata": {},
     "output_type": "execute_result"
    }
   ],
   "source": [
    "# test the DistanceTransformer\n",
    "\n",
    "dist_trans = DistanceTransformer()\n",
    "distance = dist_trans.fit_transform(X_train, y_train)\n",
    "distance.head()"
   ]
  },
  {
   "cell_type": "code",
   "execution_count": 9,
   "metadata": {},
   "outputs": [],
   "source": [
    "# create a TimeFeaturesEncoder\n",
    "class TimeFeaturesEncoder(BaseEstimator, TransformerMixin):\n",
    "    \"\"\"\n",
    "        Extracts the day of week (dow), the hour, the month and the year from a time column.\n",
    "        Returns a copy of the DataFrame X with only four columns: 'dow', 'hour', 'month', 'year'.\n",
    "    \"\"\"\n",
    "\n",
    "    def __init__(self, time_column, time_zone_name='America/New_York'):\n",
    "        self.time_column = time_column\n",
    "        self.time_zone_name = time_zone_name\n",
    "\n",
    "    def fit(self, X, y=None):\n",
    "        return self\n",
    "\n",
    "    def transform(self, X, y=None):\n",
    "        assert isinstance(X, pd.DataFrame)\n",
    "        X_ = X.copy()\n",
    "        X_.index = pd.to_datetime(X[self.time_column])\n",
    "        X_.index = X_.index.tz_convert(self.time_zone_name)\n",
    "        X_[\"dow\"] = X_.index.weekday\n",
    "        X_[\"hour\"] = X_.index.hour\n",
    "        X_[\"month\"] = X_.index.month\n",
    "        X_[\"year\"] = X_.index.year\n",
    "        return X_[['dow', 'hour', 'month', 'year']]"
   ]
  },
  {
   "cell_type": "code",
   "execution_count": 10,
   "metadata": {},
   "outputs": [
    {
     "data": {
      "text/html": [
       "<div>\n",
       "<style scoped>\n",
       "    .dataframe tbody tr th:only-of-type {\n",
       "        vertical-align: middle;\n",
       "    }\n",
       "\n",
       "    .dataframe tbody tr th {\n",
       "        vertical-align: top;\n",
       "    }\n",
       "\n",
       "    .dataframe thead th {\n",
       "        text-align: right;\n",
       "    }\n",
       "</style>\n",
       "<table border=\"1\" class=\"dataframe\">\n",
       "  <thead>\n",
       "    <tr style=\"text-align: right;\">\n",
       "      <th></th>\n",
       "      <th>dow</th>\n",
       "      <th>hour</th>\n",
       "      <th>month</th>\n",
       "      <th>year</th>\n",
       "    </tr>\n",
       "    <tr>\n",
       "      <th>pickup_datetime</th>\n",
       "      <th></th>\n",
       "      <th></th>\n",
       "      <th></th>\n",
       "      <th></th>\n",
       "    </tr>\n",
       "  </thead>\n",
       "  <tbody>\n",
       "    <tr>\n",
       "      <th>2011-11-13 07:59:00-05:00</th>\n",
       "      <td>6</td>\n",
       "      <td>7</td>\n",
       "      <td>11</td>\n",
       "      <td>2011</td>\n",
       "    </tr>\n",
       "    <tr>\n",
       "      <th>2011-07-05 10:23:00-04:00</th>\n",
       "      <td>1</td>\n",
       "      <td>10</td>\n",
       "      <td>7</td>\n",
       "      <td>2011</td>\n",
       "    </tr>\n",
       "    <tr>\n",
       "      <th>2014-10-16 13:27:00-04:00</th>\n",
       "      <td>3</td>\n",
       "      <td>13</td>\n",
       "      <td>10</td>\n",
       "      <td>2014</td>\n",
       "    </tr>\n",
       "    <tr>\n",
       "      <th>2009-07-30 17:24:21-04:00</th>\n",
       "      <td>3</td>\n",
       "      <td>17</td>\n",
       "      <td>7</td>\n",
       "      <td>2009</td>\n",
       "    </tr>\n",
       "    <tr>\n",
       "      <th>2013-06-21 22:35:01-04:00</th>\n",
       "      <td>4</td>\n",
       "      <td>22</td>\n",
       "      <td>6</td>\n",
       "      <td>2013</td>\n",
       "    </tr>\n",
       "  </tbody>\n",
       "</table>\n",
       "</div>"
      ],
      "text/plain": [
       "                           dow  hour  month  year\n",
       "pickup_datetime                                  \n",
       "2011-11-13 07:59:00-05:00    6     7     11  2011\n",
       "2011-07-05 10:23:00-04:00    1    10      7  2011\n",
       "2014-10-16 13:27:00-04:00    3    13     10  2014\n",
       "2009-07-30 17:24:21-04:00    3    17      7  2009\n",
       "2013-06-21 22:35:01-04:00    4    22      6  2013"
      ]
     },
     "execution_count": 10,
     "metadata": {},
     "output_type": "execute_result"
    }
   ],
   "source": [
    "# test the TimeFeaturesEncoder\n",
    "\n",
    "time_enc = TimeFeaturesEncoder('pickup_datetime')\n",
    "time_features = time_enc.fit_transform(X_train, y_train)\n",
    "time_features.head()"
   ]
  },
  {
   "cell_type": "markdown",
   "metadata": {},
   "source": [
    "###  Prepocessing pipeline"
   ]
  },
  {
   "cell_type": "code",
   "execution_count": 11,
   "metadata": {},
   "outputs": [],
   "source": [
    "# visualizing pipelines in HTML\n",
    "from sklearn import set_config; set_config(display='diagram')"
   ]
  },
  {
   "cell_type": "markdown",
   "metadata": {},
   "source": [
    "#### Distance pipeline\n",
    "\n",
    "Create a pipeline for distances:\n",
    "- convert the pickup and dropoff coordinates into distances with the DistanceTransformer\n",
    "- standardize these distances"
   ]
  },
  {
   "cell_type": "code",
   "execution_count": 12,
   "metadata": {},
   "outputs": [
    {
     "data": {
      "text/html": [
       "<style>#sk-2af3d723-b7c0-4feb-913d-ca5fac236e93 {color: black;background-color: white;}#sk-2af3d723-b7c0-4feb-913d-ca5fac236e93 pre{padding: 0;}#sk-2af3d723-b7c0-4feb-913d-ca5fac236e93 div.sk-toggleable {background-color: white;}#sk-2af3d723-b7c0-4feb-913d-ca5fac236e93 label.sk-toggleable__label {cursor: pointer;display: block;width: 100%;margin-bottom: 0;padding: 0.3em;box-sizing: border-box;text-align: center;}#sk-2af3d723-b7c0-4feb-913d-ca5fac236e93 label.sk-toggleable__label-arrow:before {content: \"▸\";float: left;margin-right: 0.25em;color: #696969;}#sk-2af3d723-b7c0-4feb-913d-ca5fac236e93 label.sk-toggleable__label-arrow:hover:before {color: black;}#sk-2af3d723-b7c0-4feb-913d-ca5fac236e93 div.sk-estimator:hover label.sk-toggleable__label-arrow:before {color: black;}#sk-2af3d723-b7c0-4feb-913d-ca5fac236e93 div.sk-toggleable__content {max-height: 0;max-width: 0;overflow: hidden;text-align: left;background-color: #f0f8ff;}#sk-2af3d723-b7c0-4feb-913d-ca5fac236e93 div.sk-toggleable__content pre {margin: 0.2em;color: black;border-radius: 0.25em;background-color: #f0f8ff;}#sk-2af3d723-b7c0-4feb-913d-ca5fac236e93 input.sk-toggleable__control:checked~div.sk-toggleable__content {max-height: 200px;max-width: 100%;overflow: auto;}#sk-2af3d723-b7c0-4feb-913d-ca5fac236e93 input.sk-toggleable__control:checked~label.sk-toggleable__label-arrow:before {content: \"▾\";}#sk-2af3d723-b7c0-4feb-913d-ca5fac236e93 div.sk-estimator input.sk-toggleable__control:checked~label.sk-toggleable__label {background-color: #d4ebff;}#sk-2af3d723-b7c0-4feb-913d-ca5fac236e93 div.sk-label input.sk-toggleable__control:checked~label.sk-toggleable__label {background-color: #d4ebff;}#sk-2af3d723-b7c0-4feb-913d-ca5fac236e93 input.sk-hidden--visually {border: 0;clip: rect(1px 1px 1px 1px);clip: rect(1px, 1px, 1px, 1px);height: 1px;margin: -1px;overflow: hidden;padding: 0;position: absolute;width: 1px;}#sk-2af3d723-b7c0-4feb-913d-ca5fac236e93 div.sk-estimator {font-family: monospace;background-color: #f0f8ff;border: 1px dotted black;border-radius: 0.25em;box-sizing: border-box;margin-bottom: 0.5em;}#sk-2af3d723-b7c0-4feb-913d-ca5fac236e93 div.sk-estimator:hover {background-color: #d4ebff;}#sk-2af3d723-b7c0-4feb-913d-ca5fac236e93 div.sk-parallel-item::after {content: \"\";width: 100%;border-bottom: 1px solid gray;flex-grow: 1;}#sk-2af3d723-b7c0-4feb-913d-ca5fac236e93 div.sk-label:hover label.sk-toggleable__label {background-color: #d4ebff;}#sk-2af3d723-b7c0-4feb-913d-ca5fac236e93 div.sk-serial::before {content: \"\";position: absolute;border-left: 1px solid gray;box-sizing: border-box;top: 2em;bottom: 0;left: 50%;}#sk-2af3d723-b7c0-4feb-913d-ca5fac236e93 div.sk-serial {display: flex;flex-direction: column;align-items: center;background-color: white;padding-right: 0.2em;padding-left: 0.2em;}#sk-2af3d723-b7c0-4feb-913d-ca5fac236e93 div.sk-item {z-index: 1;}#sk-2af3d723-b7c0-4feb-913d-ca5fac236e93 div.sk-parallel {display: flex;align-items: stretch;justify-content: center;background-color: white;}#sk-2af3d723-b7c0-4feb-913d-ca5fac236e93 div.sk-parallel::before {content: \"\";position: absolute;border-left: 1px solid gray;box-sizing: border-box;top: 2em;bottom: 0;left: 50%;}#sk-2af3d723-b7c0-4feb-913d-ca5fac236e93 div.sk-parallel-item {display: flex;flex-direction: column;position: relative;background-color: white;}#sk-2af3d723-b7c0-4feb-913d-ca5fac236e93 div.sk-parallel-item:first-child::after {align-self: flex-end;width: 50%;}#sk-2af3d723-b7c0-4feb-913d-ca5fac236e93 div.sk-parallel-item:last-child::after {align-self: flex-start;width: 50%;}#sk-2af3d723-b7c0-4feb-913d-ca5fac236e93 div.sk-parallel-item:only-child::after {width: 0;}#sk-2af3d723-b7c0-4feb-913d-ca5fac236e93 div.sk-dashed-wrapped {border: 1px dashed gray;margin: 0 0.4em 0.5em 0.4em;box-sizing: border-box;padding-bottom: 0.4em;background-color: white;position: relative;}#sk-2af3d723-b7c0-4feb-913d-ca5fac236e93 div.sk-label label {font-family: monospace;font-weight: bold;background-color: white;display: inline-block;line-height: 1.2em;}#sk-2af3d723-b7c0-4feb-913d-ca5fac236e93 div.sk-label-container {position: relative;z-index: 2;text-align: center;}#sk-2af3d723-b7c0-4feb-913d-ca5fac236e93 div.sk-container {/* jupyter's `normalize.less` sets `[hidden] { display: none; }` but bootstrap.min.css set `[hidden] { display: none !important; }` so we also need the `!important` here to be able to override the default hidden behavior on the sphinx rendered scikit-learn.org. See: https://github.com/scikit-learn/scikit-learn/issues/21755 */display: inline-block !important;position: relative;}#sk-2af3d723-b7c0-4feb-913d-ca5fac236e93 div.sk-text-repr-fallback {display: none;}</style><div id=\"sk-2af3d723-b7c0-4feb-913d-ca5fac236e93\" class=\"sk-top-container\"><div class=\"sk-text-repr-fallback\"><pre>Pipeline(steps=[(&#x27;dist_trans&#x27;, DistanceTransformer()),\n",
       "                (&#x27;stdscaler&#x27;, StandardScaler())])</pre><b>Please rerun this cell to show the HTML repr or trust the notebook.</b></div><div class=\"sk-container\" hidden><div class=\"sk-item sk-dashed-wrapped\"><div class=\"sk-label-container\"><div class=\"sk-label sk-toggleable\"><input class=\"sk-toggleable__control sk-hidden--visually\" id=\"8c4b96f4-1620-4335-a644-aba1af849919\" type=\"checkbox\" ><label for=\"8c4b96f4-1620-4335-a644-aba1af849919\" class=\"sk-toggleable__label sk-toggleable__label-arrow\">Pipeline</label><div class=\"sk-toggleable__content\"><pre>Pipeline(steps=[(&#x27;dist_trans&#x27;, DistanceTransformer()),\n",
       "                (&#x27;stdscaler&#x27;, StandardScaler())])</pre></div></div></div><div class=\"sk-serial\"><div class=\"sk-item\"><div class=\"sk-estimator sk-toggleable\"><input class=\"sk-toggleable__control sk-hidden--visually\" id=\"36c8155a-f917-455f-9272-840abb1c04b5\" type=\"checkbox\" ><label for=\"36c8155a-f917-455f-9272-840abb1c04b5\" class=\"sk-toggleable__label sk-toggleable__label-arrow\">DistanceTransformer</label><div class=\"sk-toggleable__content\"><pre>DistanceTransformer()</pre></div></div></div><div class=\"sk-item\"><div class=\"sk-estimator sk-toggleable\"><input class=\"sk-toggleable__control sk-hidden--visually\" id=\"1fc3ddc2-0868-48ec-a740-ddccc8395dcd\" type=\"checkbox\" ><label for=\"1fc3ddc2-0868-48ec-a740-ddccc8395dcd\" class=\"sk-toggleable__label sk-toggleable__label-arrow\">StandardScaler</label><div class=\"sk-toggleable__content\"><pre>StandardScaler()</pre></div></div></div></div></div></div></div>"
      ],
      "text/plain": [
       "Pipeline(steps=[('dist_trans', DistanceTransformer()),\n",
       "                ('stdscaler', StandardScaler())])"
      ]
     },
     "execution_count": 12,
     "metadata": {},
     "output_type": "execute_result"
    }
   ],
   "source": [
    "from sklearn.pipeline import Pipeline\n",
    "from sklearn.preprocessing import StandardScaler\n",
    "\n",
    "# create distance pipeline\n",
    "dist_pipe = Pipeline([\n",
    "    ('dist_trans', DistanceTransformer()),\n",
    "    ('stdscaler', StandardScaler())\n",
    "])\n",
    "\n",
    "# display distance pipeline\n",
    "dist_pipe"
   ]
  },
  {
   "cell_type": "markdown",
   "metadata": {},
   "source": [
    "#### Time features pipeline\n",
    "\n",
    "Create a pipeline for time features\n",
    "- extract time features from pickup datetime with the TimeFeaturesEncoder\n",
    "- encode these categorical time features with the OneHotEncoder"
   ]
  },
  {
   "cell_type": "code",
   "execution_count": 13,
   "metadata": {},
   "outputs": [
    {
     "data": {
      "text/html": [
       "<style>#sk-f31d6b95-7e01-4b1b-a25b-c8d4c2edb182 {color: black;background-color: white;}#sk-f31d6b95-7e01-4b1b-a25b-c8d4c2edb182 pre{padding: 0;}#sk-f31d6b95-7e01-4b1b-a25b-c8d4c2edb182 div.sk-toggleable {background-color: white;}#sk-f31d6b95-7e01-4b1b-a25b-c8d4c2edb182 label.sk-toggleable__label {cursor: pointer;display: block;width: 100%;margin-bottom: 0;padding: 0.3em;box-sizing: border-box;text-align: center;}#sk-f31d6b95-7e01-4b1b-a25b-c8d4c2edb182 label.sk-toggleable__label-arrow:before {content: \"▸\";float: left;margin-right: 0.25em;color: #696969;}#sk-f31d6b95-7e01-4b1b-a25b-c8d4c2edb182 label.sk-toggleable__label-arrow:hover:before {color: black;}#sk-f31d6b95-7e01-4b1b-a25b-c8d4c2edb182 div.sk-estimator:hover label.sk-toggleable__label-arrow:before {color: black;}#sk-f31d6b95-7e01-4b1b-a25b-c8d4c2edb182 div.sk-toggleable__content {max-height: 0;max-width: 0;overflow: hidden;text-align: left;background-color: #f0f8ff;}#sk-f31d6b95-7e01-4b1b-a25b-c8d4c2edb182 div.sk-toggleable__content pre {margin: 0.2em;color: black;border-radius: 0.25em;background-color: #f0f8ff;}#sk-f31d6b95-7e01-4b1b-a25b-c8d4c2edb182 input.sk-toggleable__control:checked~div.sk-toggleable__content {max-height: 200px;max-width: 100%;overflow: auto;}#sk-f31d6b95-7e01-4b1b-a25b-c8d4c2edb182 input.sk-toggleable__control:checked~label.sk-toggleable__label-arrow:before {content: \"▾\";}#sk-f31d6b95-7e01-4b1b-a25b-c8d4c2edb182 div.sk-estimator input.sk-toggleable__control:checked~label.sk-toggleable__label {background-color: #d4ebff;}#sk-f31d6b95-7e01-4b1b-a25b-c8d4c2edb182 div.sk-label input.sk-toggleable__control:checked~label.sk-toggleable__label {background-color: #d4ebff;}#sk-f31d6b95-7e01-4b1b-a25b-c8d4c2edb182 input.sk-hidden--visually {border: 0;clip: rect(1px 1px 1px 1px);clip: rect(1px, 1px, 1px, 1px);height: 1px;margin: -1px;overflow: hidden;padding: 0;position: absolute;width: 1px;}#sk-f31d6b95-7e01-4b1b-a25b-c8d4c2edb182 div.sk-estimator {font-family: monospace;background-color: #f0f8ff;border: 1px dotted black;border-radius: 0.25em;box-sizing: border-box;margin-bottom: 0.5em;}#sk-f31d6b95-7e01-4b1b-a25b-c8d4c2edb182 div.sk-estimator:hover {background-color: #d4ebff;}#sk-f31d6b95-7e01-4b1b-a25b-c8d4c2edb182 div.sk-parallel-item::after {content: \"\";width: 100%;border-bottom: 1px solid gray;flex-grow: 1;}#sk-f31d6b95-7e01-4b1b-a25b-c8d4c2edb182 div.sk-label:hover label.sk-toggleable__label {background-color: #d4ebff;}#sk-f31d6b95-7e01-4b1b-a25b-c8d4c2edb182 div.sk-serial::before {content: \"\";position: absolute;border-left: 1px solid gray;box-sizing: border-box;top: 2em;bottom: 0;left: 50%;}#sk-f31d6b95-7e01-4b1b-a25b-c8d4c2edb182 div.sk-serial {display: flex;flex-direction: column;align-items: center;background-color: white;padding-right: 0.2em;padding-left: 0.2em;}#sk-f31d6b95-7e01-4b1b-a25b-c8d4c2edb182 div.sk-item {z-index: 1;}#sk-f31d6b95-7e01-4b1b-a25b-c8d4c2edb182 div.sk-parallel {display: flex;align-items: stretch;justify-content: center;background-color: white;}#sk-f31d6b95-7e01-4b1b-a25b-c8d4c2edb182 div.sk-parallel::before {content: \"\";position: absolute;border-left: 1px solid gray;box-sizing: border-box;top: 2em;bottom: 0;left: 50%;}#sk-f31d6b95-7e01-4b1b-a25b-c8d4c2edb182 div.sk-parallel-item {display: flex;flex-direction: column;position: relative;background-color: white;}#sk-f31d6b95-7e01-4b1b-a25b-c8d4c2edb182 div.sk-parallel-item:first-child::after {align-self: flex-end;width: 50%;}#sk-f31d6b95-7e01-4b1b-a25b-c8d4c2edb182 div.sk-parallel-item:last-child::after {align-self: flex-start;width: 50%;}#sk-f31d6b95-7e01-4b1b-a25b-c8d4c2edb182 div.sk-parallel-item:only-child::after {width: 0;}#sk-f31d6b95-7e01-4b1b-a25b-c8d4c2edb182 div.sk-dashed-wrapped {border: 1px dashed gray;margin: 0 0.4em 0.5em 0.4em;box-sizing: border-box;padding-bottom: 0.4em;background-color: white;position: relative;}#sk-f31d6b95-7e01-4b1b-a25b-c8d4c2edb182 div.sk-label label {font-family: monospace;font-weight: bold;background-color: white;display: inline-block;line-height: 1.2em;}#sk-f31d6b95-7e01-4b1b-a25b-c8d4c2edb182 div.sk-label-container {position: relative;z-index: 2;text-align: center;}#sk-f31d6b95-7e01-4b1b-a25b-c8d4c2edb182 div.sk-container {/* jupyter's `normalize.less` sets `[hidden] { display: none; }` but bootstrap.min.css set `[hidden] { display: none !important; }` so we also need the `!important` here to be able to override the default hidden behavior on the sphinx rendered scikit-learn.org. See: https://github.com/scikit-learn/scikit-learn/issues/21755 */display: inline-block !important;position: relative;}#sk-f31d6b95-7e01-4b1b-a25b-c8d4c2edb182 div.sk-text-repr-fallback {display: none;}</style><div id=\"sk-f31d6b95-7e01-4b1b-a25b-c8d4c2edb182\" class=\"sk-top-container\"><div class=\"sk-text-repr-fallback\"><pre>Pipeline(steps=[(&#x27;time_enc&#x27;,\n",
       "                 TimeFeaturesEncoder(time_column=&#x27;pickup_datetime&#x27;)),\n",
       "                (&#x27;ohe&#x27;, OneHotEncoder(handle_unknown=&#x27;ignore&#x27;))])</pre><b>Please rerun this cell to show the HTML repr or trust the notebook.</b></div><div class=\"sk-container\" hidden><div class=\"sk-item sk-dashed-wrapped\"><div class=\"sk-label-container\"><div class=\"sk-label sk-toggleable\"><input class=\"sk-toggleable__control sk-hidden--visually\" id=\"09fad41f-acd5-417f-9033-b82b3c4ed680\" type=\"checkbox\" ><label for=\"09fad41f-acd5-417f-9033-b82b3c4ed680\" class=\"sk-toggleable__label sk-toggleable__label-arrow\">Pipeline</label><div class=\"sk-toggleable__content\"><pre>Pipeline(steps=[(&#x27;time_enc&#x27;,\n",
       "                 TimeFeaturesEncoder(time_column=&#x27;pickup_datetime&#x27;)),\n",
       "                (&#x27;ohe&#x27;, OneHotEncoder(handle_unknown=&#x27;ignore&#x27;))])</pre></div></div></div><div class=\"sk-serial\"><div class=\"sk-item\"><div class=\"sk-estimator sk-toggleable\"><input class=\"sk-toggleable__control sk-hidden--visually\" id=\"3f5e5baf-0f00-4d5e-82a1-4946e83be01d\" type=\"checkbox\" ><label for=\"3f5e5baf-0f00-4d5e-82a1-4946e83be01d\" class=\"sk-toggleable__label sk-toggleable__label-arrow\">TimeFeaturesEncoder</label><div class=\"sk-toggleable__content\"><pre>TimeFeaturesEncoder(time_column=&#x27;pickup_datetime&#x27;)</pre></div></div></div><div class=\"sk-item\"><div class=\"sk-estimator sk-toggleable\"><input class=\"sk-toggleable__control sk-hidden--visually\" id=\"67e098ea-3ae4-4f3e-8538-27b9bb6f0a75\" type=\"checkbox\" ><label for=\"67e098ea-3ae4-4f3e-8538-27b9bb6f0a75\" class=\"sk-toggleable__label sk-toggleable__label-arrow\">OneHotEncoder</label><div class=\"sk-toggleable__content\"><pre>OneHotEncoder(handle_unknown=&#x27;ignore&#x27;)</pre></div></div></div></div></div></div></div>"
      ],
      "text/plain": [
       "Pipeline(steps=[('time_enc',\n",
       "                 TimeFeaturesEncoder(time_column='pickup_datetime')),\n",
       "                ('ohe', OneHotEncoder(handle_unknown='ignore'))])"
      ]
     },
     "execution_count": 13,
     "metadata": {},
     "output_type": "execute_result"
    }
   ],
   "source": [
    "from sklearn.preprocessing import OneHotEncoder\n",
    "\n",
    "# create time pipeline\n",
    "time_pipe = Pipeline([\n",
    "    ('time_enc', TimeFeaturesEncoder('pickup_datetime')),\n",
    "    ('ohe', OneHotEncoder(handle_unknown='ignore'))\n",
    "])\n",
    "\n",
    "# display time pipeline\n",
    "time_pipe"
   ]
  },
  {
   "cell_type": "markdown",
   "metadata": {},
   "source": [
    "#### Preprocessing pipeline\n",
    "\n",
    "Wrap up the distance pipeline and the time pipeline into a preprocessing pipeline."
   ]
  },
  {
   "cell_type": "code",
   "execution_count": 14,
   "metadata": {},
   "outputs": [
    {
     "data": {
      "text/html": [
       "<style>#sk-a02042fc-7e05-4ebb-b554-ff0b2ee60681 {color: black;background-color: white;}#sk-a02042fc-7e05-4ebb-b554-ff0b2ee60681 pre{padding: 0;}#sk-a02042fc-7e05-4ebb-b554-ff0b2ee60681 div.sk-toggleable {background-color: white;}#sk-a02042fc-7e05-4ebb-b554-ff0b2ee60681 label.sk-toggleable__label {cursor: pointer;display: block;width: 100%;margin-bottom: 0;padding: 0.3em;box-sizing: border-box;text-align: center;}#sk-a02042fc-7e05-4ebb-b554-ff0b2ee60681 label.sk-toggleable__label-arrow:before {content: \"▸\";float: left;margin-right: 0.25em;color: #696969;}#sk-a02042fc-7e05-4ebb-b554-ff0b2ee60681 label.sk-toggleable__label-arrow:hover:before {color: black;}#sk-a02042fc-7e05-4ebb-b554-ff0b2ee60681 div.sk-estimator:hover label.sk-toggleable__label-arrow:before {color: black;}#sk-a02042fc-7e05-4ebb-b554-ff0b2ee60681 div.sk-toggleable__content {max-height: 0;max-width: 0;overflow: hidden;text-align: left;background-color: #f0f8ff;}#sk-a02042fc-7e05-4ebb-b554-ff0b2ee60681 div.sk-toggleable__content pre {margin: 0.2em;color: black;border-radius: 0.25em;background-color: #f0f8ff;}#sk-a02042fc-7e05-4ebb-b554-ff0b2ee60681 input.sk-toggleable__control:checked~div.sk-toggleable__content {max-height: 200px;max-width: 100%;overflow: auto;}#sk-a02042fc-7e05-4ebb-b554-ff0b2ee60681 input.sk-toggleable__control:checked~label.sk-toggleable__label-arrow:before {content: \"▾\";}#sk-a02042fc-7e05-4ebb-b554-ff0b2ee60681 div.sk-estimator input.sk-toggleable__control:checked~label.sk-toggleable__label {background-color: #d4ebff;}#sk-a02042fc-7e05-4ebb-b554-ff0b2ee60681 div.sk-label input.sk-toggleable__control:checked~label.sk-toggleable__label {background-color: #d4ebff;}#sk-a02042fc-7e05-4ebb-b554-ff0b2ee60681 input.sk-hidden--visually {border: 0;clip: rect(1px 1px 1px 1px);clip: rect(1px, 1px, 1px, 1px);height: 1px;margin: -1px;overflow: hidden;padding: 0;position: absolute;width: 1px;}#sk-a02042fc-7e05-4ebb-b554-ff0b2ee60681 div.sk-estimator {font-family: monospace;background-color: #f0f8ff;border: 1px dotted black;border-radius: 0.25em;box-sizing: border-box;margin-bottom: 0.5em;}#sk-a02042fc-7e05-4ebb-b554-ff0b2ee60681 div.sk-estimator:hover {background-color: #d4ebff;}#sk-a02042fc-7e05-4ebb-b554-ff0b2ee60681 div.sk-parallel-item::after {content: \"\";width: 100%;border-bottom: 1px solid gray;flex-grow: 1;}#sk-a02042fc-7e05-4ebb-b554-ff0b2ee60681 div.sk-label:hover label.sk-toggleable__label {background-color: #d4ebff;}#sk-a02042fc-7e05-4ebb-b554-ff0b2ee60681 div.sk-serial::before {content: \"\";position: absolute;border-left: 1px solid gray;box-sizing: border-box;top: 2em;bottom: 0;left: 50%;}#sk-a02042fc-7e05-4ebb-b554-ff0b2ee60681 div.sk-serial {display: flex;flex-direction: column;align-items: center;background-color: white;padding-right: 0.2em;padding-left: 0.2em;}#sk-a02042fc-7e05-4ebb-b554-ff0b2ee60681 div.sk-item {z-index: 1;}#sk-a02042fc-7e05-4ebb-b554-ff0b2ee60681 div.sk-parallel {display: flex;align-items: stretch;justify-content: center;background-color: white;}#sk-a02042fc-7e05-4ebb-b554-ff0b2ee60681 div.sk-parallel::before {content: \"\";position: absolute;border-left: 1px solid gray;box-sizing: border-box;top: 2em;bottom: 0;left: 50%;}#sk-a02042fc-7e05-4ebb-b554-ff0b2ee60681 div.sk-parallel-item {display: flex;flex-direction: column;position: relative;background-color: white;}#sk-a02042fc-7e05-4ebb-b554-ff0b2ee60681 div.sk-parallel-item:first-child::after {align-self: flex-end;width: 50%;}#sk-a02042fc-7e05-4ebb-b554-ff0b2ee60681 div.sk-parallel-item:last-child::after {align-self: flex-start;width: 50%;}#sk-a02042fc-7e05-4ebb-b554-ff0b2ee60681 div.sk-parallel-item:only-child::after {width: 0;}#sk-a02042fc-7e05-4ebb-b554-ff0b2ee60681 div.sk-dashed-wrapped {border: 1px dashed gray;margin: 0 0.4em 0.5em 0.4em;box-sizing: border-box;padding-bottom: 0.4em;background-color: white;position: relative;}#sk-a02042fc-7e05-4ebb-b554-ff0b2ee60681 div.sk-label label {font-family: monospace;font-weight: bold;background-color: white;display: inline-block;line-height: 1.2em;}#sk-a02042fc-7e05-4ebb-b554-ff0b2ee60681 div.sk-label-container {position: relative;z-index: 2;text-align: center;}#sk-a02042fc-7e05-4ebb-b554-ff0b2ee60681 div.sk-container {/* jupyter's `normalize.less` sets `[hidden] { display: none; }` but bootstrap.min.css set `[hidden] { display: none !important; }` so we also need the `!important` here to be able to override the default hidden behavior on the sphinx rendered scikit-learn.org. See: https://github.com/scikit-learn/scikit-learn/issues/21755 */display: inline-block !important;position: relative;}#sk-a02042fc-7e05-4ebb-b554-ff0b2ee60681 div.sk-text-repr-fallback {display: none;}</style><div id=\"sk-a02042fc-7e05-4ebb-b554-ff0b2ee60681\" class=\"sk-top-container\"><div class=\"sk-text-repr-fallback\"><pre>ColumnTransformer(transformers=[(&#x27;distance&#x27;,\n",
       "                                 Pipeline(steps=[(&#x27;dist_trans&#x27;,\n",
       "                                                  DistanceTransformer()),\n",
       "                                                 (&#x27;stdscaler&#x27;,\n",
       "                                                  StandardScaler())]),\n",
       "                                 [&#x27;pickup_latitude&#x27;, &#x27;pickup_longitude&#x27;,\n",
       "                                  &#x27;dropoff_latitude&#x27;, &#x27;dropoff_longitude&#x27;]),\n",
       "                                (&#x27;time&#x27;,\n",
       "                                 Pipeline(steps=[(&#x27;time_enc&#x27;,\n",
       "                                                  TimeFeaturesEncoder(time_column=&#x27;pickup_datetime&#x27;)),\n",
       "                                                 (&#x27;ohe&#x27;,\n",
       "                                                  OneHotEncoder(handle_unknown=&#x27;ignore&#x27;))]),\n",
       "                                 [&#x27;pickup_datetime&#x27;])])</pre><b>Please rerun this cell to show the HTML repr or trust the notebook.</b></div><div class=\"sk-container\" hidden><div class=\"sk-item sk-dashed-wrapped\"><div class=\"sk-label-container\"><div class=\"sk-label sk-toggleable\"><input class=\"sk-toggleable__control sk-hidden--visually\" id=\"c8401100-74ba-48e5-929c-1f08978fcbf3\" type=\"checkbox\" ><label for=\"c8401100-74ba-48e5-929c-1f08978fcbf3\" class=\"sk-toggleable__label sk-toggleable__label-arrow\">ColumnTransformer</label><div class=\"sk-toggleable__content\"><pre>ColumnTransformer(transformers=[(&#x27;distance&#x27;,\n",
       "                                 Pipeline(steps=[(&#x27;dist_trans&#x27;,\n",
       "                                                  DistanceTransformer()),\n",
       "                                                 (&#x27;stdscaler&#x27;,\n",
       "                                                  StandardScaler())]),\n",
       "                                 [&#x27;pickup_latitude&#x27;, &#x27;pickup_longitude&#x27;,\n",
       "                                  &#x27;dropoff_latitude&#x27;, &#x27;dropoff_longitude&#x27;]),\n",
       "                                (&#x27;time&#x27;,\n",
       "                                 Pipeline(steps=[(&#x27;time_enc&#x27;,\n",
       "                                                  TimeFeaturesEncoder(time_column=&#x27;pickup_datetime&#x27;)),\n",
       "                                                 (&#x27;ohe&#x27;,\n",
       "                                                  OneHotEncoder(handle_unknown=&#x27;ignore&#x27;))]),\n",
       "                                 [&#x27;pickup_datetime&#x27;])])</pre></div></div></div><div class=\"sk-parallel\"><div class=\"sk-parallel-item\"><div class=\"sk-item\"><div class=\"sk-label-container\"><div class=\"sk-label sk-toggleable\"><input class=\"sk-toggleable__control sk-hidden--visually\" id=\"61ec659b-d942-4bcd-9530-c58771321c7f\" type=\"checkbox\" ><label for=\"61ec659b-d942-4bcd-9530-c58771321c7f\" class=\"sk-toggleable__label sk-toggleable__label-arrow\">distance</label><div class=\"sk-toggleable__content\"><pre>[&#x27;pickup_latitude&#x27;, &#x27;pickup_longitude&#x27;, &#x27;dropoff_latitude&#x27;, &#x27;dropoff_longitude&#x27;]</pre></div></div></div><div class=\"sk-serial\"><div class=\"sk-item\"><div class=\"sk-serial\"><div class=\"sk-item\"><div class=\"sk-estimator sk-toggleable\"><input class=\"sk-toggleable__control sk-hidden--visually\" id=\"936eced4-b7e3-4b45-986d-3ce000ac6a26\" type=\"checkbox\" ><label for=\"936eced4-b7e3-4b45-986d-3ce000ac6a26\" class=\"sk-toggleable__label sk-toggleable__label-arrow\">DistanceTransformer</label><div class=\"sk-toggleable__content\"><pre>DistanceTransformer()</pre></div></div></div><div class=\"sk-item\"><div class=\"sk-estimator sk-toggleable\"><input class=\"sk-toggleable__control sk-hidden--visually\" id=\"5d0a8a06-936a-433b-96ab-3fb5e741eaf3\" type=\"checkbox\" ><label for=\"5d0a8a06-936a-433b-96ab-3fb5e741eaf3\" class=\"sk-toggleable__label sk-toggleable__label-arrow\">StandardScaler</label><div class=\"sk-toggleable__content\"><pre>StandardScaler()</pre></div></div></div></div></div></div></div></div><div class=\"sk-parallel-item\"><div class=\"sk-item\"><div class=\"sk-label-container\"><div class=\"sk-label sk-toggleable\"><input class=\"sk-toggleable__control sk-hidden--visually\" id=\"372e9ae7-e11b-4147-9f4c-284c9013a930\" type=\"checkbox\" ><label for=\"372e9ae7-e11b-4147-9f4c-284c9013a930\" class=\"sk-toggleable__label sk-toggleable__label-arrow\">time</label><div class=\"sk-toggleable__content\"><pre>[&#x27;pickup_datetime&#x27;]</pre></div></div></div><div class=\"sk-serial\"><div class=\"sk-item\"><div class=\"sk-serial\"><div class=\"sk-item\"><div class=\"sk-estimator sk-toggleable\"><input class=\"sk-toggleable__control sk-hidden--visually\" id=\"dca4caa0-6bdd-434b-aa5d-8db78819fecc\" type=\"checkbox\" ><label for=\"dca4caa0-6bdd-434b-aa5d-8db78819fecc\" class=\"sk-toggleable__label sk-toggleable__label-arrow\">TimeFeaturesEncoder</label><div class=\"sk-toggleable__content\"><pre>TimeFeaturesEncoder(time_column=&#x27;pickup_datetime&#x27;)</pre></div></div></div><div class=\"sk-item\"><div class=\"sk-estimator sk-toggleable\"><input class=\"sk-toggleable__control sk-hidden--visually\" id=\"8524677e-c47f-4b0d-a140-534ac7711efb\" type=\"checkbox\" ><label for=\"8524677e-c47f-4b0d-a140-534ac7711efb\" class=\"sk-toggleable__label sk-toggleable__label-arrow\">OneHotEncoder</label><div class=\"sk-toggleable__content\"><pre>OneHotEncoder(handle_unknown=&#x27;ignore&#x27;)</pre></div></div></div></div></div></div></div></div></div></div></div></div>"
      ],
      "text/plain": [
       "ColumnTransformer(transformers=[('distance',\n",
       "                                 Pipeline(steps=[('dist_trans',\n",
       "                                                  DistanceTransformer()),\n",
       "                                                 ('stdscaler',\n",
       "                                                  StandardScaler())]),\n",
       "                                 ['pickup_latitude', 'pickup_longitude',\n",
       "                                  'dropoff_latitude', 'dropoff_longitude']),\n",
       "                                ('time',\n",
       "                                 Pipeline(steps=[('time_enc',\n",
       "                                                  TimeFeaturesEncoder(time_column='pickup_datetime')),\n",
       "                                                 ('ohe',\n",
       "                                                  OneHotEncoder(handle_unknown='ignore'))]),\n",
       "                                 ['pickup_datetime'])])"
      ]
     },
     "execution_count": 14,
     "metadata": {},
     "output_type": "execute_result"
    }
   ],
   "source": [
    "from sklearn.compose import ColumnTransformer\n",
    "\n",
    "# create preprocessing pipeline\n",
    "preproc_pipe = ColumnTransformer([\n",
    "    ('distance', dist_pipe, [\"pickup_latitude\", \"pickup_longitude\", 'dropoff_latitude', 'dropoff_longitude']),\n",
    "    ('time', time_pipe, ['pickup_datetime'])\n",
    "], remainder=\"drop\")\n",
    "\n",
    "# display preprocessing pipeline\n",
    "preproc_pipe"
   ]
  },
  {
   "cell_type": "markdown",
   "metadata": {},
   "source": [
    "### Model pipeline\n",
    "\n",
    "Create a pipeline containing the preprocessing and the regression model of your choice."
   ]
  },
  {
   "cell_type": "code",
   "execution_count": 15,
   "metadata": {},
   "outputs": [
    {
     "data": {
      "text/html": [
       "<style>#sk-37bbde22-8d64-46e2-ae9b-e2100a21769e {color: black;background-color: white;}#sk-37bbde22-8d64-46e2-ae9b-e2100a21769e pre{padding: 0;}#sk-37bbde22-8d64-46e2-ae9b-e2100a21769e div.sk-toggleable {background-color: white;}#sk-37bbde22-8d64-46e2-ae9b-e2100a21769e label.sk-toggleable__label {cursor: pointer;display: block;width: 100%;margin-bottom: 0;padding: 0.3em;box-sizing: border-box;text-align: center;}#sk-37bbde22-8d64-46e2-ae9b-e2100a21769e label.sk-toggleable__label-arrow:before {content: \"▸\";float: left;margin-right: 0.25em;color: #696969;}#sk-37bbde22-8d64-46e2-ae9b-e2100a21769e label.sk-toggleable__label-arrow:hover:before {color: black;}#sk-37bbde22-8d64-46e2-ae9b-e2100a21769e div.sk-estimator:hover label.sk-toggleable__label-arrow:before {color: black;}#sk-37bbde22-8d64-46e2-ae9b-e2100a21769e div.sk-toggleable__content {max-height: 0;max-width: 0;overflow: hidden;text-align: left;background-color: #f0f8ff;}#sk-37bbde22-8d64-46e2-ae9b-e2100a21769e div.sk-toggleable__content pre {margin: 0.2em;color: black;border-radius: 0.25em;background-color: #f0f8ff;}#sk-37bbde22-8d64-46e2-ae9b-e2100a21769e input.sk-toggleable__control:checked~div.sk-toggleable__content {max-height: 200px;max-width: 100%;overflow: auto;}#sk-37bbde22-8d64-46e2-ae9b-e2100a21769e input.sk-toggleable__control:checked~label.sk-toggleable__label-arrow:before {content: \"▾\";}#sk-37bbde22-8d64-46e2-ae9b-e2100a21769e div.sk-estimator input.sk-toggleable__control:checked~label.sk-toggleable__label {background-color: #d4ebff;}#sk-37bbde22-8d64-46e2-ae9b-e2100a21769e div.sk-label input.sk-toggleable__control:checked~label.sk-toggleable__label {background-color: #d4ebff;}#sk-37bbde22-8d64-46e2-ae9b-e2100a21769e input.sk-hidden--visually {border: 0;clip: rect(1px 1px 1px 1px);clip: rect(1px, 1px, 1px, 1px);height: 1px;margin: -1px;overflow: hidden;padding: 0;position: absolute;width: 1px;}#sk-37bbde22-8d64-46e2-ae9b-e2100a21769e div.sk-estimator {font-family: monospace;background-color: #f0f8ff;border: 1px dotted black;border-radius: 0.25em;box-sizing: border-box;margin-bottom: 0.5em;}#sk-37bbde22-8d64-46e2-ae9b-e2100a21769e div.sk-estimator:hover {background-color: #d4ebff;}#sk-37bbde22-8d64-46e2-ae9b-e2100a21769e div.sk-parallel-item::after {content: \"\";width: 100%;border-bottom: 1px solid gray;flex-grow: 1;}#sk-37bbde22-8d64-46e2-ae9b-e2100a21769e div.sk-label:hover label.sk-toggleable__label {background-color: #d4ebff;}#sk-37bbde22-8d64-46e2-ae9b-e2100a21769e div.sk-serial::before {content: \"\";position: absolute;border-left: 1px solid gray;box-sizing: border-box;top: 2em;bottom: 0;left: 50%;}#sk-37bbde22-8d64-46e2-ae9b-e2100a21769e div.sk-serial {display: flex;flex-direction: column;align-items: center;background-color: white;padding-right: 0.2em;padding-left: 0.2em;}#sk-37bbde22-8d64-46e2-ae9b-e2100a21769e div.sk-item {z-index: 1;}#sk-37bbde22-8d64-46e2-ae9b-e2100a21769e div.sk-parallel {display: flex;align-items: stretch;justify-content: center;background-color: white;}#sk-37bbde22-8d64-46e2-ae9b-e2100a21769e div.sk-parallel::before {content: \"\";position: absolute;border-left: 1px solid gray;box-sizing: border-box;top: 2em;bottom: 0;left: 50%;}#sk-37bbde22-8d64-46e2-ae9b-e2100a21769e div.sk-parallel-item {display: flex;flex-direction: column;position: relative;background-color: white;}#sk-37bbde22-8d64-46e2-ae9b-e2100a21769e div.sk-parallel-item:first-child::after {align-self: flex-end;width: 50%;}#sk-37bbde22-8d64-46e2-ae9b-e2100a21769e div.sk-parallel-item:last-child::after {align-self: flex-start;width: 50%;}#sk-37bbde22-8d64-46e2-ae9b-e2100a21769e div.sk-parallel-item:only-child::after {width: 0;}#sk-37bbde22-8d64-46e2-ae9b-e2100a21769e div.sk-dashed-wrapped {border: 1px dashed gray;margin: 0 0.4em 0.5em 0.4em;box-sizing: border-box;padding-bottom: 0.4em;background-color: white;position: relative;}#sk-37bbde22-8d64-46e2-ae9b-e2100a21769e div.sk-label label {font-family: monospace;font-weight: bold;background-color: white;display: inline-block;line-height: 1.2em;}#sk-37bbde22-8d64-46e2-ae9b-e2100a21769e div.sk-label-container {position: relative;z-index: 2;text-align: center;}#sk-37bbde22-8d64-46e2-ae9b-e2100a21769e div.sk-container {/* jupyter's `normalize.less` sets `[hidden] { display: none; }` but bootstrap.min.css set `[hidden] { display: none !important; }` so we also need the `!important` here to be able to override the default hidden behavior on the sphinx rendered scikit-learn.org. See: https://github.com/scikit-learn/scikit-learn/issues/21755 */display: inline-block !important;position: relative;}#sk-37bbde22-8d64-46e2-ae9b-e2100a21769e div.sk-text-repr-fallback {display: none;}</style><div id=\"sk-37bbde22-8d64-46e2-ae9b-e2100a21769e\" class=\"sk-top-container\"><div class=\"sk-text-repr-fallback\"><pre>Pipeline(steps=[(&#x27;preproc&#x27;,\n",
       "                 ColumnTransformer(transformers=[(&#x27;distance&#x27;,\n",
       "                                                  Pipeline(steps=[(&#x27;dist_trans&#x27;,\n",
       "                                                                   DistanceTransformer()),\n",
       "                                                                  (&#x27;stdscaler&#x27;,\n",
       "                                                                   StandardScaler())]),\n",
       "                                                  [&#x27;pickup_latitude&#x27;,\n",
       "                                                   &#x27;pickup_longitude&#x27;,\n",
       "                                                   &#x27;dropoff_latitude&#x27;,\n",
       "                                                   &#x27;dropoff_longitude&#x27;]),\n",
       "                                                 (&#x27;time&#x27;,\n",
       "                                                  Pipeline(steps=[(&#x27;time_enc&#x27;,\n",
       "                                                                   TimeFeaturesEncoder(time_column=&#x27;pickup_datetime&#x27;)),\n",
       "                                                                  (&#x27;ohe&#x27;,\n",
       "                                                                   OneHotEncoder(handle_unknown=&#x27;ignore&#x27;))]),\n",
       "                                                  [&#x27;pickup_datetime&#x27;])])),\n",
       "                (&#x27;linear_model&#x27;, LinearRegression())])</pre><b>Please rerun this cell to show the HTML repr or trust the notebook.</b></div><div class=\"sk-container\" hidden><div class=\"sk-item sk-dashed-wrapped\"><div class=\"sk-label-container\"><div class=\"sk-label sk-toggleable\"><input class=\"sk-toggleable__control sk-hidden--visually\" id=\"17d101b8-4c50-4a70-b4ca-7bcc97425642\" type=\"checkbox\" ><label for=\"17d101b8-4c50-4a70-b4ca-7bcc97425642\" class=\"sk-toggleable__label sk-toggleable__label-arrow\">Pipeline</label><div class=\"sk-toggleable__content\"><pre>Pipeline(steps=[(&#x27;preproc&#x27;,\n",
       "                 ColumnTransformer(transformers=[(&#x27;distance&#x27;,\n",
       "                                                  Pipeline(steps=[(&#x27;dist_trans&#x27;,\n",
       "                                                                   DistanceTransformer()),\n",
       "                                                                  (&#x27;stdscaler&#x27;,\n",
       "                                                                   StandardScaler())]),\n",
       "                                                  [&#x27;pickup_latitude&#x27;,\n",
       "                                                   &#x27;pickup_longitude&#x27;,\n",
       "                                                   &#x27;dropoff_latitude&#x27;,\n",
       "                                                   &#x27;dropoff_longitude&#x27;]),\n",
       "                                                 (&#x27;time&#x27;,\n",
       "                                                  Pipeline(steps=[(&#x27;time_enc&#x27;,\n",
       "                                                                   TimeFeaturesEncoder(time_column=&#x27;pickup_datetime&#x27;)),\n",
       "                                                                  (&#x27;ohe&#x27;,\n",
       "                                                                   OneHotEncoder(handle_unknown=&#x27;ignore&#x27;))]),\n",
       "                                                  [&#x27;pickup_datetime&#x27;])])),\n",
       "                (&#x27;linear_model&#x27;, LinearRegression())])</pre></div></div></div><div class=\"sk-serial\"><div class=\"sk-item sk-dashed-wrapped\"><div class=\"sk-label-container\"><div class=\"sk-label sk-toggleable\"><input class=\"sk-toggleable__control sk-hidden--visually\" id=\"735a34b6-daa2-49bd-ba34-aaf55ee3226c\" type=\"checkbox\" ><label for=\"735a34b6-daa2-49bd-ba34-aaf55ee3226c\" class=\"sk-toggleable__label sk-toggleable__label-arrow\">preproc: ColumnTransformer</label><div class=\"sk-toggleable__content\"><pre>ColumnTransformer(transformers=[(&#x27;distance&#x27;,\n",
       "                                 Pipeline(steps=[(&#x27;dist_trans&#x27;,\n",
       "                                                  DistanceTransformer()),\n",
       "                                                 (&#x27;stdscaler&#x27;,\n",
       "                                                  StandardScaler())]),\n",
       "                                 [&#x27;pickup_latitude&#x27;, &#x27;pickup_longitude&#x27;,\n",
       "                                  &#x27;dropoff_latitude&#x27;, &#x27;dropoff_longitude&#x27;]),\n",
       "                                (&#x27;time&#x27;,\n",
       "                                 Pipeline(steps=[(&#x27;time_enc&#x27;,\n",
       "                                                  TimeFeaturesEncoder(time_column=&#x27;pickup_datetime&#x27;)),\n",
       "                                                 (&#x27;ohe&#x27;,\n",
       "                                                  OneHotEncoder(handle_unknown=&#x27;ignore&#x27;))]),\n",
       "                                 [&#x27;pickup_datetime&#x27;])])</pre></div></div></div><div class=\"sk-parallel\"><div class=\"sk-parallel-item\"><div class=\"sk-item\"><div class=\"sk-label-container\"><div class=\"sk-label sk-toggleable\"><input class=\"sk-toggleable__control sk-hidden--visually\" id=\"9ddd889e-26e5-4960-ae24-5065d5970e6f\" type=\"checkbox\" ><label for=\"9ddd889e-26e5-4960-ae24-5065d5970e6f\" class=\"sk-toggleable__label sk-toggleable__label-arrow\">distance</label><div class=\"sk-toggleable__content\"><pre>[&#x27;pickup_latitude&#x27;, &#x27;pickup_longitude&#x27;, &#x27;dropoff_latitude&#x27;, &#x27;dropoff_longitude&#x27;]</pre></div></div></div><div class=\"sk-serial\"><div class=\"sk-item\"><div class=\"sk-serial\"><div class=\"sk-item\"><div class=\"sk-estimator sk-toggleable\"><input class=\"sk-toggleable__control sk-hidden--visually\" id=\"bef08f27-75ea-461a-ace4-f99dda85aa90\" type=\"checkbox\" ><label for=\"bef08f27-75ea-461a-ace4-f99dda85aa90\" class=\"sk-toggleable__label sk-toggleable__label-arrow\">DistanceTransformer</label><div class=\"sk-toggleable__content\"><pre>DistanceTransformer()</pre></div></div></div><div class=\"sk-item\"><div class=\"sk-estimator sk-toggleable\"><input class=\"sk-toggleable__control sk-hidden--visually\" id=\"ea25b26f-dd50-401c-ad2a-3acb21c3308b\" type=\"checkbox\" ><label for=\"ea25b26f-dd50-401c-ad2a-3acb21c3308b\" class=\"sk-toggleable__label sk-toggleable__label-arrow\">StandardScaler</label><div class=\"sk-toggleable__content\"><pre>StandardScaler()</pre></div></div></div></div></div></div></div></div><div class=\"sk-parallel-item\"><div class=\"sk-item\"><div class=\"sk-label-container\"><div class=\"sk-label sk-toggleable\"><input class=\"sk-toggleable__control sk-hidden--visually\" id=\"03d6dfa1-042c-466d-a9e6-9bb53e7835c3\" type=\"checkbox\" ><label for=\"03d6dfa1-042c-466d-a9e6-9bb53e7835c3\" class=\"sk-toggleable__label sk-toggleable__label-arrow\">time</label><div class=\"sk-toggleable__content\"><pre>[&#x27;pickup_datetime&#x27;]</pre></div></div></div><div class=\"sk-serial\"><div class=\"sk-item\"><div class=\"sk-serial\"><div class=\"sk-item\"><div class=\"sk-estimator sk-toggleable\"><input class=\"sk-toggleable__control sk-hidden--visually\" id=\"017c4d14-30bf-453a-b4fd-537e6e0bc535\" type=\"checkbox\" ><label for=\"017c4d14-30bf-453a-b4fd-537e6e0bc535\" class=\"sk-toggleable__label sk-toggleable__label-arrow\">TimeFeaturesEncoder</label><div class=\"sk-toggleable__content\"><pre>TimeFeaturesEncoder(time_column=&#x27;pickup_datetime&#x27;)</pre></div></div></div><div class=\"sk-item\"><div class=\"sk-estimator sk-toggleable\"><input class=\"sk-toggleable__control sk-hidden--visually\" id=\"f649208f-2e40-4b60-b0b9-bb1743552642\" type=\"checkbox\" ><label for=\"f649208f-2e40-4b60-b0b9-bb1743552642\" class=\"sk-toggleable__label sk-toggleable__label-arrow\">OneHotEncoder</label><div class=\"sk-toggleable__content\"><pre>OneHotEncoder(handle_unknown=&#x27;ignore&#x27;)</pre></div></div></div></div></div></div></div></div></div></div><div class=\"sk-item\"><div class=\"sk-estimator sk-toggleable\"><input class=\"sk-toggleable__control sk-hidden--visually\" id=\"c294b614-54d4-4a79-a5dd-6f70348454bd\" type=\"checkbox\" ><label for=\"c294b614-54d4-4a79-a5dd-6f70348454bd\" class=\"sk-toggleable__label sk-toggleable__label-arrow\">LinearRegression</label><div class=\"sk-toggleable__content\"><pre>LinearRegression()</pre></div></div></div></div></div></div></div>"
      ],
      "text/plain": [
       "Pipeline(steps=[('preproc',\n",
       "                 ColumnTransformer(transformers=[('distance',\n",
       "                                                  Pipeline(steps=[('dist_trans',\n",
       "                                                                   DistanceTransformer()),\n",
       "                                                                  ('stdscaler',\n",
       "                                                                   StandardScaler())]),\n",
       "                                                  ['pickup_latitude',\n",
       "                                                   'pickup_longitude',\n",
       "                                                   'dropoff_latitude',\n",
       "                                                   'dropoff_longitude']),\n",
       "                                                 ('time',\n",
       "                                                  Pipeline(steps=[('time_enc',\n",
       "                                                                   TimeFeaturesEncoder(time_column='pickup_datetime')),\n",
       "                                                                  ('ohe',\n",
       "                                                                   OneHotEncoder(handle_unknown='ignore'))]),\n",
       "                                                  ['pickup_datetime'])])),\n",
       "                ('linear_model', LinearRegression())])"
      ]
     },
     "execution_count": 15,
     "metadata": {},
     "output_type": "execute_result"
    }
   ],
   "source": [
    "from sklearn.linear_model import LinearRegression\n",
    "\n",
    "# Add the model of your choice to the pipeline\n",
    "pipe = Pipeline([\n",
    "    ('preproc', preproc_pipe),\n",
    "    ('linear_model', LinearRegression())\n",
    "])\n",
    "\n",
    "# display the pipeline with model\n",
    "pipe"
   ]
  },
  {
   "cell_type": "markdown",
   "metadata": {},
   "source": [
    "### Training and performance"
   ]
  },
  {
   "cell_type": "markdown",
   "metadata": {},
   "source": [
    "Train the pipelined model and compute the prediction on the test set:"
   ]
  },
  {
   "cell_type": "code",
   "execution_count": 16,
   "metadata": {},
   "outputs": [],
   "source": [
    "# train the pipelined model\n",
    "pipe.fit(X_train, y_train)\n",
    "\n",
    "# compute y_pred on the test set\n",
    "y_pred = pipe.predict(X_test)"
   ]
  },
  {
   "cell_type": "markdown",
   "metadata": {},
   "source": [
    "Use the RMSE to evaluate the performance of the model:"
   ]
  },
  {
   "cell_type": "code",
   "execution_count": 17,
   "metadata": {},
   "outputs": [],
   "source": [
    "def compute_rmse(y_pred, y_true):\n",
    "    return np.sqrt(((y_pred - y_true)**2).mean())"
   ]
  },
  {
   "cell_type": "code",
   "execution_count": 18,
   "metadata": {},
   "outputs": [
    {
     "data": {
      "text/plain": [
       "9.656863788222129"
      ]
     },
     "execution_count": 18,
     "metadata": {},
     "output_type": "execute_result"
    }
   ],
   "source": [
    "# call compute_rmse\n",
    "compute_rmse(y_pred, y_test)"
   ]
  },
  {
   "cell_type": "markdown",
   "metadata": {},
   "source": [
    "## Complete the workflow with a pipeline"
   ]
  },
  {
   "cell_type": "markdown",
   "metadata": {},
   "source": [
    "Here we will implement the whole workflow for our Taxifare kaggle challenge.\n",
    "\n",
    "For that we will refactor the code in functions for more clarity.\n",
    "\n",
    "Implement the following functions:\n",
    "- `get_data()` to fetch the data from AWS\n",
    "- `clean_data()` to clean the data\n",
    "- `get_pipeline()` to get the pipeline defined earlier\n",
    "- `train()` to train our model\n",
    "- `evaluate()` to evaluate our model on test data"
   ]
  },
  {
   "cell_type": "code",
   "execution_count": 20,
   "metadata": {},
   "outputs": [],
   "source": [
    "# implement get_data() function\n",
    "def get_data(nrows=10000):\n",
    "    '''returns a DataFrame with nrows from s3 bucket'''\n",
    "    aws_path = \"../01-Kaggle-Taxi-Fare/data/train.csv\"\n",
    "    df = pd.read_csv(aws_path, nrows=nrows)\n",
    "    return df"
   ]
  },
  {
   "cell_type": "code",
   "execution_count": 21,
   "metadata": {},
   "outputs": [],
   "source": [
    "# implement clean_data() function\n",
    "def clean_data(df, test=False):\n",
    "    '''returns a DataFrame without outliers and missing values'''\n",
    "    df = df.dropna(how='any')\n",
    "    df = df[(df.dropoff_latitude != 0) | (df.dropoff_longitude != 0)]\n",
    "    df = df[(df.pickup_latitude != 0) | (df.pickup_longitude != 0)]\n",
    "    if \"fare_amount\" in list(df):\n",
    "        df = df[df.fare_amount.between(0, 4000)]\n",
    "    df = df[df.passenger_count < 8]\n",
    "    df = df[df.passenger_count >= 0]\n",
    "    df = df[df[\"pickup_latitude\"].between(left=40, right=42)]\n",
    "    df = df[df[\"pickup_longitude\"].between(left=-74.3, right=-72.9)]\n",
    "    df = df[df[\"dropoff_latitude\"].between(left=40, right=42)]\n",
    "    df = df[df[\"dropoff_longitude\"].between(left=-74, right=-72.9)]\n",
    "    return df"
   ]
  },
  {
   "cell_type": "code",
   "execution_count": 22,
   "metadata": {},
   "outputs": [],
   "source": [
    "# implement set_pipeline() function\n",
    "def set_pipeline():\n",
    "    '''returns a pipelined model'''\n",
    "    dist_pipe = Pipeline([\n",
    "        ('dist_trans', DistanceTransformer()),\n",
    "        ('stdscaler', StandardScaler())\n",
    "    ])\n",
    "    time_pipe = Pipeline([\n",
    "        ('time_enc', TimeFeaturesEncoder('pickup_datetime')),\n",
    "        ('ohe', OneHotEncoder(handle_unknown='ignore'))\n",
    "    ])\n",
    "    preproc_pipe = ColumnTransformer([\n",
    "        ('distance', dist_pipe, [\"pickup_latitude\", \"pickup_longitude\", 'dropoff_latitude', 'dropoff_longitude']),\n",
    "        ('time', time_pipe, ['pickup_datetime'])\n",
    "    ], remainder=\"drop\")\n",
    "    pipe = Pipeline([\n",
    "        ('preproc', preproc_pipe),\n",
    "        ('linear_model', LinearRegression())\n",
    "    ])\n",
    "    return pipe"
   ]
  },
  {
   "cell_type": "code",
   "execution_count": 23,
   "metadata": {},
   "outputs": [],
   "source": [
    "# implement train() function\n",
    "def train(X_train, y_train, pipeline):\n",
    "    '''returns a trained pipelined model'''\n",
    "    pipeline.fit(X_train, y_train)\n",
    "    return pipeline"
   ]
  },
  {
   "cell_type": "code",
   "execution_count": 24,
   "metadata": {},
   "outputs": [],
   "source": [
    "# implement evaluate() function\n",
    "def evaluate(X_test, y_test, pipeline):\n",
    "    '''returns the value of the RMSE'''\n",
    "    y_pred = pipeline.predict(X_test)\n",
    "    rmse = compute_rmse(y_pred, y_test)\n",
    "    print(rmse)\n",
    "    return rmse"
   ]
  },
  {
   "cell_type": "markdown",
   "metadata": {},
   "source": [
    "### Test the complete worflow\n",
    "\n",
    "Use the above functions to test the complete workflow."
   ]
  },
  {
   "cell_type": "code",
   "execution_count": 25,
   "metadata": {},
   "outputs": [
    {
     "name": "stdout",
     "output_type": "stream",
     "text": [
      "10.195961731841166\n"
     ]
    }
   ],
   "source": [
    "# store the data in a DataFrame\n",
    "df = get_data()\n",
    "\n",
    "# set X and y\n",
    "y = df[\"fare_amount\"]\n",
    "X = df.drop(\"fare_amount\", axis=1)\n",
    "\n",
    "# hold out\n",
    "X_train, X_val, y_train, y_val = train_test_split(X, y, test_size=0.15)\n",
    "\n",
    "# build pipeline\n",
    "pipeline = set_pipeline()\n",
    "\n",
    "# train the pipeline\n",
    "train(X_train, y_train, pipeline)\n",
    "\n",
    "# evaluate the pipeline\n",
    "rmse = evaluate(X_val, y_val, pipeline)"
   ]
  },
  {
   "cell_type": "markdown",
   "metadata": {},
   "source": [
    "### Congrats!\n",
    "\n",
    "Now we are ready to convert this complete workflow into a packaged code 🚀"
   ]
  }
 ],
 "metadata": {
  "challengify": {
   "keep_output": true
  },
  "kernelspec": {
   "display_name": "Python 3 (ipykernel)",
   "language": "python",
   "name": "python3"
  },
  "language_info": {
   "codemirror_mode": {
    "name": "ipython",
    "version": 3
   },
   "file_extension": ".py",
   "mimetype": "text/x-python",
   "name": "python",
   "nbconvert_exporter": "python",
   "pygments_lexer": "ipython3",
   "version": "3.8.12"
  },
  "toc": {
   "base_numbering": 1,
   "nav_menu": {},
   "number_sections": true,
   "sideBar": true,
   "skip_h1_title": false,
   "title_cell": "Table of Contents",
   "title_sidebar": "Contents",
   "toc_cell": false,
   "toc_position": {},
   "toc_section_display": true,
   "toc_window_display": false
  }
 },
 "nbformat": 4,
 "nbformat_minor": 4
}
